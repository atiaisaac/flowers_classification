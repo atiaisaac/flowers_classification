{
 "cells": [
  {
   "cell_type": "code",
   "execution_count": 1,
   "metadata": {},
   "outputs": [
    {
     "name": "stderr",
     "output_type": "stream",
     "text": [
      "Using TensorFlow backend.\n"
     ]
    }
   ],
   "source": [
    "import cv2\n",
    "from keras.layers import Conv2D,MaxPooling2D,Flatten,Dense\n",
    "from keras.models import Sequential\n",
    "from keras.optimizers import Adam\n",
    "import glob\n",
    "import os\n",
    "import numpy as np\n",
    "from sklearn.preprocessing import LabelEncoder\n",
    "from keras.utils import to_categorical\n",
    "from sklearn.model_selection import train_test_split\n",
    "from keras.preprocessing.image import ImageDataGenerator\n",
    "import seaborn as sns"
   ]
  },
  {
   "cell_type": "code",
   "execution_count": 2,
   "metadata": {},
   "outputs": [],
   "source": [
    "labels = sorted(os.listdir(\"trainer\"))\n",
    "global_labels = []\n",
    "features = []\n",
    "for i in labels:\n",
    "    directory = os.path.join(\"trainer\",i)\n",
    "    for file in glob.iglob(directory+\"/*\"):\n",
    "        image = cv2.imread(file,cv2.IMREAD_COLOR)\n",
    "        image = cv2.resize(image,(150,150))\n",
    "        features.append(np.array(image))\n",
    "        global_labels.append(i)"
   ]
  },
  {
   "cell_type": "code",
   "execution_count": 3,
   "metadata": {},
   "outputs": [],
   "source": [
    "X = np.array(features)"
   ]
  },
  {
   "cell_type": "code",
   "execution_count": 4,
   "metadata": {},
   "outputs": [
    {
     "data": {
      "text/plain": [
       "(3000, 150, 150, 3)"
      ]
     },
     "execution_count": 4,
     "metadata": {},
     "output_type": "execute_result"
    }
   ],
   "source": [
    "X.shape"
   ]
  },
  {
   "cell_type": "code",
   "execution_count": 5,
   "metadata": {
    "scrolled": true
   },
   "outputs": [
    {
     "data": {
      "text/plain": [
       "3000"
      ]
     },
     "execution_count": 5,
     "metadata": {},
     "output_type": "execute_result"
    }
   ],
   "source": [
    "len(global_labels)"
   ]
  },
  {
   "cell_type": "code",
   "execution_count": 6,
   "metadata": {},
   "outputs": [],
   "source": [
    "def define_model():\n",
    "    model = Sequential([\n",
    "        Conv2D(32,(5,5),activation=\"relu\",padding=\"same\",input_shape=(150,150,3)),\n",
    "        MaxPooling2D((2,2)),\n",
    "        Conv2D(64,(3,3),activation=\"relu\",padding=\"same\"),\n",
    "        MaxPooling2D((2,2)),\n",
    "        Conv2D(128,(3,3),activation=\"relu\",padding=\"same\"),\n",
    "        MaxPooling2D((2,2)),\n",
    "        Flatten(),\n",
    "        Dense(128,activation=\"relu\"),\n",
    "        Dense(5,activation=\"softmax\")\n",
    "    ])\n",
    "    model.compile(optimizer=Adam(lr=0.001),loss=\"categorical_crossentropy\",metrics=[\"accuracy\"])\n",
    "    return model"
   ]
  },
  {
   "cell_type": "code",
   "execution_count": 7,
   "metadata": {},
   "outputs": [],
   "source": [
    "pp = LabelEncoder()\n",
    "l = pp.fit_transform(global_labels)\n",
    "y = to_categorical(l,num_classes=5)\n",
    "X = X/255.0"
   ]
  },
  {
   "cell_type": "code",
   "execution_count": 8,
   "metadata": {},
   "outputs": [],
   "source": [
    "x_train,x_test,y_train,y_test = train_test_split(X,y,test_size=0.25,random_state=42)\n",
    "datagen = ImageDataGenerator(featurewise_center=False,  # set input mean to 0 over the dataset\n",
    "        samplewise_center=False,  # set each sample mean to 0\n",
    "        featurewise_std_normalization=False,  # divide inputs by std of the dataset\n",
    "        samplewise_std_normalization=False,  # divide each input by its std\n",
    "        zca_whitening=False,  # apply ZCA whitening\n",
    "        rotation_range=10,  # randomly rotate images in the range (degrees, 0 to 180)\n",
    "        zoom_range = 0.1, # Randomly zoom image \n",
    "        width_shift_range=0.2,  # randomly shift images horizontally (fraction of total width)\n",
    "        height_shift_range=0.2,  # randomly shift images vertically (fraction of total height)\n",
    "        horizontal_flip=True,  # randomly flip images\n",
    "        vertical_flip=False)\n",
    "datagen.fit(x_train)"
   ]
  },
  {
   "cell_type": "code",
   "execution_count": 9,
   "metadata": {
    "scrolled": false
   },
   "outputs": [
    {
     "name": "stdout",
     "output_type": "stream",
     "text": [
      "Epoch 1/50\n",
      "70/70 [==============================] - 59s 849ms/step - loss: 1.5221 - accuracy: 0.3345 - val_loss: 1.1586 - val_accuracy: 0.5267\n",
      "Epoch 2/50\n",
      "70/70 [==============================] - 58s 824ms/step - loss: 1.1653 - accuracy: 0.5072 - val_loss: 1.0781 - val_accuracy: 0.5600\n",
      "Epoch 3/50\n",
      "70/70 [==============================] - 58s 826ms/step - loss: 1.0983 - accuracy: 0.5573 - val_loss: 0.9851 - val_accuracy: 0.6200\n",
      "Epoch 4/50\n",
      "70/70 [==============================] - 58s 832ms/step - loss: 1.0178 - accuracy: 0.5960 - val_loss: 0.9246 - val_accuracy: 0.6400\n",
      "Epoch 5/50\n",
      "70/70 [==============================] - 57s 819ms/step - loss: 0.9459 - accuracy: 0.6317 - val_loss: 0.8976 - val_accuracy: 0.6440\n",
      "Epoch 6/50\n",
      "70/70 [==============================] - 59s 842ms/step - loss: 0.9066 - accuracy: 0.6504 - val_loss: 0.8386 - val_accuracy: 0.6707\n",
      "Epoch 7/50\n",
      "70/70 [==============================] - 57s 810ms/step - loss: 0.8840 - accuracy: 0.6535 - val_loss: 0.7893 - val_accuracy: 0.7053\n",
      "Epoch 8/50\n",
      "70/70 [==============================] - 58s 823ms/step - loss: 0.8373 - accuracy: 0.6817 - val_loss: 0.8049 - val_accuracy: 0.7040\n",
      "Epoch 9/50\n",
      "70/70 [==============================] - 58s 823ms/step - loss: 0.8138 - accuracy: 0.6830 - val_loss: 0.8120 - val_accuracy: 0.7160\n",
      "Epoch 10/50\n",
      "70/70 [==============================] - 58s 822ms/step - loss: 0.7993 - accuracy: 0.6921 - val_loss: 0.7768 - val_accuracy: 0.6960\n",
      "Epoch 11/50\n",
      "70/70 [==============================] - 58s 822ms/step - loss: 0.7964 - accuracy: 0.6925 - val_loss: 0.7333 - val_accuracy: 0.7200\n",
      "Epoch 12/50\n",
      "70/70 [==============================] - 58s 821ms/step - loss: 0.7928 - accuracy: 0.7011 - val_loss: 0.8357 - val_accuracy: 0.6800\n",
      "Epoch 13/50\n",
      "70/70 [==============================] - 57s 813ms/step - loss: 0.7465 - accuracy: 0.7223 - val_loss: 0.7147 - val_accuracy: 0.7360\n",
      "Epoch 14/50\n",
      "70/70 [==============================] - 58s 830ms/step - loss: 0.7590 - accuracy: 0.7056 - val_loss: 0.7988 - val_accuracy: 0.7000\n",
      "Epoch 15/50\n",
      "70/70 [==============================] - 59s 836ms/step - loss: 0.7224 - accuracy: 0.7227 - val_loss: 0.6896 - val_accuracy: 0.7440\n",
      "Epoch 16/50\n",
      "70/70 [==============================] - 57s 820ms/step - loss: 0.7039 - accuracy: 0.7399 - val_loss: 0.7488 - val_accuracy: 0.7227\n",
      "Epoch 17/50\n",
      "70/70 [==============================] - 58s 824ms/step - loss: 0.6825 - accuracy: 0.7484 - val_loss: 0.6833 - val_accuracy: 0.7573\n",
      "Epoch 18/50\n",
      "70/70 [==============================] - 57s 816ms/step - loss: 0.6752 - accuracy: 0.7304 - val_loss: 0.7795 - val_accuracy: 0.7267\n",
      "Epoch 19/50\n",
      "70/70 [==============================] - 58s 829ms/step - loss: 0.6932 - accuracy: 0.7399 - val_loss: 0.6969 - val_accuracy: 0.7413\n",
      "Epoch 20/50\n",
      "70/70 [==============================] - 58s 833ms/step - loss: 0.6642 - accuracy: 0.7446 - val_loss: 0.6489 - val_accuracy: 0.7467\n",
      "Epoch 21/50\n",
      "70/70 [==============================] - 57s 815ms/step - loss: 0.6203 - accuracy: 0.7605 - val_loss: 0.6502 - val_accuracy: 0.7467\n",
      "Epoch 22/50\n",
      "70/70 [==============================] - 58s 823ms/step - loss: 0.6191 - accuracy: 0.7565 - val_loss: 0.8759 - val_accuracy: 0.7160\n",
      "Epoch 23/50\n",
      "70/70 [==============================] - 57s 820ms/step - loss: 0.6118 - accuracy: 0.7773 - val_loss: 0.6159 - val_accuracy: 0.7693\n",
      "Epoch 24/50\n",
      "70/70 [==============================] - 58s 828ms/step - loss: 0.6183 - accuracy: 0.7660 - val_loss: 0.7206 - val_accuracy: 0.7440\n",
      "Epoch 25/50\n",
      "70/70 [==============================] - 57s 815ms/step - loss: 0.5926 - accuracy: 0.7701 - val_loss: 0.6775 - val_accuracy: 0.7413\n",
      "Epoch 26/50\n",
      "70/70 [==============================] - 57s 819ms/step - loss: 0.5773 - accuracy: 0.7732 - val_loss: 0.6853 - val_accuracy: 0.7627\n",
      "Epoch 27/50\n",
      "70/70 [==============================] - 58s 833ms/step - loss: 0.5736 - accuracy: 0.7826 - val_loss: 0.6809 - val_accuracy: 0.7520\n",
      "Epoch 28/50\n",
      "70/70 [==============================] - 57s 815ms/step - loss: 0.5632 - accuracy: 0.7892 - val_loss: 0.6522 - val_accuracy: 0.7707\n",
      "Epoch 29/50\n",
      "70/70 [==============================] - 58s 824ms/step - loss: 0.5565 - accuracy: 0.7958 - val_loss: 0.7101 - val_accuracy: 0.7453\n",
      "Epoch 30/50\n",
      "70/70 [==============================] - 58s 825ms/step - loss: 0.5394 - accuracy: 0.7894 - val_loss: 0.6567 - val_accuracy: 0.7613\n",
      "Epoch 31/50\n",
      "70/70 [==============================] - 58s 828ms/step - loss: 0.4973 - accuracy: 0.8129 - val_loss: 0.6932 - val_accuracy: 0.7600\n",
      "Epoch 32/50\n",
      "70/70 [==============================] - 57s 821ms/step - loss: 0.5206 - accuracy: 0.7983 - val_loss: 0.6518 - val_accuracy: 0.7520\n",
      "Epoch 33/50\n",
      "70/70 [==============================] - 58s 822ms/step - loss: 0.4998 - accuracy: 0.8098 - val_loss: 0.6444 - val_accuracy: 0.7720\n",
      "Epoch 34/50\n",
      "70/70 [==============================] - 57s 809ms/step - loss: 0.4675 - accuracy: 0.8206 - val_loss: 0.6695 - val_accuracy: 0.7813\n",
      "Epoch 35/50\n",
      "70/70 [==============================] - 58s 823ms/step - loss: 0.4872 - accuracy: 0.8147 - val_loss: 0.6856 - val_accuracy: 0.7653\n",
      "Epoch 36/50\n",
      "70/70 [==============================] - 57s 821ms/step - loss: 0.4638 - accuracy: 0.8138 - val_loss: 0.6700 - val_accuracy: 0.7667\n",
      "Epoch 37/50\n",
      "70/70 [==============================] - 58s 826ms/step - loss: 0.4482 - accuracy: 0.8299 - val_loss: 0.6560 - val_accuracy: 0.7667\n",
      "Epoch 38/50\n",
      "70/70 [==============================] - 58s 824ms/step - loss: 0.4729 - accuracy: 0.8160 - val_loss: 0.6881 - val_accuracy: 0.7560\n",
      "Epoch 39/50\n",
      "70/70 [==============================] - 58s 826ms/step - loss: 0.4541 - accuracy: 0.8254 - val_loss: 0.6452 - val_accuracy: 0.7613\n",
      "Epoch 40/50\n",
      "70/70 [==============================] - 58s 823ms/step - loss: 0.4597 - accuracy: 0.8301 - val_loss: 0.6000 - val_accuracy: 0.7840\n",
      "Epoch 41/50\n",
      "70/70 [==============================] - 57s 820ms/step - loss: 0.4286 - accuracy: 0.8362 - val_loss: 0.6707 - val_accuracy: 0.7587\n",
      "Epoch 42/50\n",
      "70/70 [==============================] - 57s 820ms/step - loss: 0.4205 - accuracy: 0.8431 - val_loss: 0.6568 - val_accuracy: 0.7787\n",
      "Epoch 43/50\n",
      "70/70 [==============================] - 58s 825ms/step - loss: 0.4069 - accuracy: 0.8534 - val_loss: 0.6911 - val_accuracy: 0.7773\n",
      "Epoch 44/50\n",
      "70/70 [==============================] - 58s 829ms/step - loss: 0.3740 - accuracy: 0.8603 - val_loss: 0.6381 - val_accuracy: 0.7827\n",
      "Epoch 45/50\n",
      "70/70 [==============================] - 57s 816ms/step - loss: 0.3806 - accuracy: 0.8553 - val_loss: 0.6468 - val_accuracy: 0.7893\n",
      "Epoch 46/50\n",
      "70/70 [==============================] - 58s 823ms/step - loss: 0.4074 - accuracy: 0.8463 - val_loss: 0.6476 - val_accuracy: 0.7760\n",
      "Epoch 47/50\n",
      "70/70 [==============================] - 57s 816ms/step - loss: 0.3248 - accuracy: 0.8816 - val_loss: 0.6872 - val_accuracy: 0.7733\n",
      "Epoch 48/50\n",
      "70/70 [==============================] - 58s 831ms/step - loss: 0.3852 - accuracy: 0.8594 - val_loss: 0.7926 - val_accuracy: 0.7507\n",
      "Epoch 49/50\n",
      "70/70 [==============================] - 58s 825ms/step - loss: 0.3973 - accuracy: 0.8458 - val_loss: 0.6409 - val_accuracy: 0.7853\n",
      "Epoch 50/50\n",
      "70/70 [==============================] - 58s 823ms/step - loss: 0.3815 - accuracy: 0.8602 - val_loss: 0.7054 - val_accuracy: 0.7707\n"
     ]
    }
   ],
   "source": [
    "model = define_model()\n",
    "history = model.fit_generator(datagen.flow(x_train,y_train,batch_size=32),epochs=50,\n",
    "                              validation_data=(x_test,y_test),verbose=1,steps_per_epoch=x_train.shape[0]//32)"
   ]
  },
  {
   "cell_type": "markdown",
   "metadata": {},
   "source": [
    "### Experimenting with various batch sizes, 32 worked pretty well"
   ]
  },
  {
   "cell_type": "code",
   "execution_count": 16,
   "metadata": {},
   "outputs": [],
   "source": [
    "import matplotlib.pyplot as plt\n",
    "%matplotlib inline"
   ]
  },
  {
   "cell_type": "code",
   "execution_count": 23,
   "metadata": {},
   "outputs": [
    {
     "data": {
      "image/png": "[encoded data removed]",
      "text/plain": [
       "<Figure size 432x288 with 1 Axes>"
      ]
     },
     "metadata": {
      "needs_background": "light"
     },
     "output_type": "display_data"
    }
   ],
   "source": [
    "plt.plot(history.history['loss'])\n",
    "plt.plot(history.history['val_loss'])\n",
    "plt.xlabel('Epochs')\n",
    "plt.ylabel('Losses')\n",
    "plt.legend(['train','validation'])\n",
    "plt.show()"
   ]
  },
  {
   "cell_type": "code",
   "execution_count": 24,
   "metadata": {},
   "outputs": [
    {
     "data": {
      "image/png": "[encoded data removed]",
      "text/plain": [
       "<Figure size 432x288 with 1 Axes>"
      ]
     },
     "metadata": {
      "needs_background": "light"
     },
     "output_type": "display_data"
    }
   ],
   "source": [
    "plt.plot(history.history['accuracy'])\n",
    "plt.plot(history.history['val_accuracy'])\n",
    "plt.xlabel('Epochs')\n",
    "plt.ylabel('Accurcay')\n",
    "plt.legend(['train','validation'])\n",
    "plt.show()"
   ]
  },
  {
   "cell_type": "code",
   "execution_count": 47,
   "metadata": {},
   "outputs": [
    {
     "name": "stdout",
     "output_type": "stream",
     "text": [
      "0 daisy\n",
      "1 dandelion\n",
      "4 tulip\n",
      "3 sunflower\n",
      "4 tulip\n"
     ]
    }
   ],
   "source": [
    "item = [\"daisy.jpeg\",\"dandelion.jpeg\",\"rose.jpeg\",\"sunflower.jpeg\",\"tulip.jpeg\"]\n",
    "test_labels = {0:\"daisy\",1:\"dandelion\",2:\"rose\",3:\"sunflower\",4:\"tulip\"}\n",
    "for file in item:\n",
    "        image = cv2.imread(file,cv2.IMREAD_COLOR)\n",
    "        image = cv2.resize(image,(150,150))\n",
    "        im = [np.array(image)]\n",
    "        im = np.array(im)\n",
    "        result = model.predict(im)\n",
    "        result = np.argmax(result)\n",
    "        for key in test_labels.keys():\n",
    "            if result == key:\n",
    "                print (result,test_labels.get(key,0))\n",
    "        "
   ]
  },
  {
   "cell_type": "markdown",
   "metadata": {},
   "source": [
    "### It gets everything right with the exception of the rose. It makes a wrong prediction by classifying a rose as a tulip"
   ]
  },
  {
   "cell_type": "code",
   "execution_count": null,
   "metadata": {},
   "outputs": [],
   "source": []
  }
 ],
 "metadata": {
  "kernelspec": {
   "display_name": "Python 3",
   "language": "python",
   "name": "python3"
  },
  "language_info": {
   "codemirror_mode": {
    "name": "ipython",
    "version": 3
   },
   "file_extension": ".py",
   "mimetype": "text/x-python",
   "name": "python",
   "nbconvert_exporter": "python",
   "pygments_lexer": "ipython3",
   "version": "3.7.4"
  }
 },
 "nbformat": 4,
 "nbformat_minor": 2
}
